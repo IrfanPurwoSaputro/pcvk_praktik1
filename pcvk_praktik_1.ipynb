{
  "nbformat": 4,
  "nbformat_minor": 0,
  "metadata": {
    "colab": {
      "name": "pcvk_praktik_1.ipynb",
      "provenance": [],
      "authorship_tag": "ABX9TyNZn4iGZxJl86lwBwfiJtZr",
      "include_colab_link": true
    },
    "kernelspec": {
      "name": "python3",
      "display_name": "Python 3"
    },
    "language_info": {
      "name": "python"
    }
  },
  "cells": [
    {
      "cell_type": "markdown",
      "metadata": {
        "id": "view-in-github",
        "colab_type": "text"
      },
      "source": [
        "<a href=\"https://colab.research.google.com/github/IrfanPurwoSaputro/pcvk_praktik1/blob/main/pcvk_praktik_1.ipynb\" target=\"_parent\"><img src=\"https://colab.research.google.com/assets/colab-badge.svg\" alt=\"Open In Colab\"/></a>"
      ]
    },
    {
      "cell_type": "code",
      "execution_count": 1,
      "metadata": {
        "id": "1wPY8vORrABY"
      },
      "outputs": [],
      "source": [
        "import numpy as np\n",
        "import pandas as pd\n",
        "import cv2 as cv\n",
        "from google.colab.patches import cv2_imshow #for image display\n",
        "from skimage import io\n",
        "from skimage import transform\n",
        "from PIL import Image\n",
        "import matplotlib.pyplot as plt"
      ]
    },
    {
      "cell_type": "code",
      "source": [
        "# membuat list untuk beberapa image\n",
        "urls = [\"https://iiif.lib.ncsu.edu/iiif/0052574/full/800,/0/default.jpg\",\"https://iiif.lib.ncsu.edu/iiif/0016007/full/800,/0/default.jpg\",\"https://placekitten.com/800/571\"]\n",
        "# baca dan tampilkan image\n",
        "# loop pada tiap url image, beberapa image dapat disimpan pada list\n",
        "for url in urls:\n",
        "  image = io.imread(url)\n",
        "  image = cv.resize(image, (0,0), fx=0.5, fy=0.5)\n",
        "     "
      ],
      "metadata": {
        "id": "O-sUkrV4r3s2"
      },
      "execution_count": null,
      "outputs": []
    }
  ]
}